{
  "cells": [
    {
      "cell_type": "markdown",
      "metadata": {
        "id": "view-in-github",
        "colab_type": "text"
      },
      "source": [
        "<a href=\"https://colab.research.google.com/github/AjiMukti-GG/Class_dan_Objek/blob/main/class_komputer.ipynb\" target=\"_parent\"><img src=\"https://colab.research.google.com/assets/colab-badge.svg\" alt=\"Open In Colab\"/></a>"
      ]
    },
    {
      "cell_type": "code",
      "source": [
        "\n",
        "class Komputer:\n",
        "    def __init__(self, merek, spesifikasi):\n",
        "        self.merek = merek\n",
        "        self.spesifikasi = spesifikasi\n",
        "\n",
        "    def info_komputer(self):\n",
        "        print(f\"Komputer merek {self.merek} dengan spesifikasi {self.spesifikasi}\")\n",
        "\n",
        "kp = Komputer(\"Acer\", \"Core i9 12GB RAM\")\n",
        "kp.info_komputer()"
      ],
      "metadata": {
        "id": "xkrX4PtqRukp",
        "outputId": "ba1e9971-477a-4886-b225-222c5bf155dc",
        "colab": {
          "base_uri": "https://localhost:8080/"
        }
      },
      "execution_count": 4,
      "outputs": [
        {
          "output_type": "stream",
          "name": "stdout",
          "text": [
            "Komputer merek Acer dengan spesifikasi Core i9 12GB RAM\n"
          ]
        }
      ]
    }
  ],
  "metadata": {
    "colab": {
      "name": "Welcome To Colab",
      "toc_visible": true,
      "provenance": [],
      "include_colab_link": true
    },
    "kernelspec": {
      "display_name": "Python 3",
      "name": "python3"
    }
  },
  "nbformat": 4,
  "nbformat_minor": 0
}