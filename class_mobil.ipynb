{
  "cells": [
    {
      "cell_type": "markdown",
      "metadata": {
        "id": "view-in-github",
        "colab_type": "text"
      },
      "source": [
        "<a href=\"https://colab.research.google.com/github/AjiMukti-GG/Class_dan_Objek/blob/main/class_mobil.ipynb\" target=\"_parent\"><img src=\"https://colab.research.google.com/assets/colab-badge.svg\" alt=\"Open In Colab\"/></a>"
      ]
    },
    {
      "cell_type": "code",
      "source": [
        "class Mobil:\n",
        "    def __init__(self, merk, model, tahun, warna):\n",
        "        self.merk = merk\n",
        "        self.model = model\n",
        "        self.tahun = tahun\n",
        "        self.warna = warna\n",
        "\n",
        "    def info_mobil(self):\n",
        "        print(f\"Mobil {self.merk} {self.model}, keluaran tahun {self.tahun}, berwarna {self.warna}\")\n",
        "\n",
        "    def nyalakan_mesin(self):\n",
        "        print(f\"Mesin {self.merk} {self.model} dinyalakan!\")\n",
        "\n",
        "    def matikan_mesin(self):\n",
        "        print(f\"Mesin {self.merk} {self.model} dimatikan!\")\n",
        "\n",
        "mb = Mobil(\"Toyota\", \"GR supra\", 2019, \"Putih\")\n",
        "mb.info_mobil()\n",
        "mb.nyalakan_mesin()\n",
        "mb.matikan_mesin()"
      ],
      "metadata": {
        "id": "LbVy400dSkxQ",
        "outputId": "9c736dfe-9c6a-4890-e331-db07dcda69df",
        "colab": {
          "base_uri": "https://localhost:8080/"
        }
      },
      "execution_count": 7,
      "outputs": [
        {
          "output_type": "stream",
          "name": "stdout",
          "text": [
            "Mobil Toyota GR supra, keluaran tahun 2019, berwarna Putih\n",
            "Mesin Toyota GR supra dinyalakan!\n",
            "Mesin Toyota GR supra dimatikan!\n"
          ]
        }
      ]
    }
  ],
  "metadata": {
    "colab": {
      "name": "Welcome To Colab",
      "toc_visible": true,
      "provenance": [],
      "include_colab_link": true
    },
    "kernelspec": {
      "display_name": "Python 3",
      "name": "python3"
    }
  },
  "nbformat": 4,
  "nbformat_minor": 0
}