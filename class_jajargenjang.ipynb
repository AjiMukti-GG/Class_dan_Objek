{
  "cells": [
    {
      "cell_type": "markdown",
      "metadata": {
        "id": "view-in-github",
        "colab_type": "text"
      },
      "source": [
        "<a href=\"https://colab.research.google.com/github/AjiMukti-GG/Class_dan_Objek/blob/main/class_jajargenjang.ipynb\" target=\"_parent\"><img src=\"https://colab.research.google.com/assets/colab-badge.svg\" alt=\"Open In Colab\"/></a>"
      ]
    },
    {
      "cell_type": "code",
      "source": [
        "class JajarGenjang:\n",
        "    def __init__(self, alas, tinggi, sisi_miring):\n",
        "        self.alas = alas\n",
        "        self.tinggi = tinggi\n",
        "        self.sisi_miring = sisi_miring\n",
        "\n",
        "    def hitung_luas(self):\n",
        "        return self.alas * self.tinggi\n",
        "\n",
        "    def hitung_keliling(self):\n",
        "        return 2 * (self.alas + self.sisi_miring)\n",
        "\n",
        "    def info_bentuk(self):\n",
        "        print(f\"Jajar genjang dengan alas {self.alas}, tinggi {self.tinggi}, dan sisi miring {self.sisi_miring}\")\n",
        "\n",
        "jg = JajarGenjang(8, 12, 10)\n",
        "jg.info_bentuk()\n",
        "print(f\"Luas jajar genjang: {jg.hitung_luas()}\")\n",
        "print(f\"Keliling jajar genjang: {jg.hitung_keliling()}\")\n"
      ],
      "metadata": {
        "colab": {
          "base_uri": "https://localhost:8080/"
        },
        "id": "FGMb8gRVRGfK",
        "outputId": "bd2ab854-e946-4fce-bd10-438d50b57152"
      },
      "execution_count": 3,
      "outputs": [
        {
          "output_type": "stream",
          "name": "stdout",
          "text": [
            "Jajar genjang dengan alas 8, tinggi 12, dan sisi miring 10\n",
            "Luas jajar genjang: 96\n",
            "Keliling jajar genjang: 36\n"
          ]
        }
      ]
    }
  ],
  "metadata": {
    "colab": {
      "name": "Welcome To Colab",
      "toc_visible": true,
      "provenance": [],
      "include_colab_link": true
    },
    "kernelspec": {
      "display_name": "Python 3",
      "name": "python3"
    }
  },
  "nbformat": 4,
  "nbformat_minor": 0
}