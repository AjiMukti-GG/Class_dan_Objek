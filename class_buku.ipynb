{
  "cells": [
    {
      "cell_type": "markdown",
      "metadata": {
        "id": "view-in-github",
        "colab_type": "text"
      },
      "source": [
        "<a href=\"https://colab.research.google.com/github/AjiMukti-GG/Class_dan_Objek/blob/main/class_buku.ipynb\" target=\"_parent\"><img src=\"https://colab.research.google.com/assets/colab-badge.svg\" alt=\"Open In Colab\"/></a>"
      ]
    },
    {
      "cell_type": "code",
      "source": [
        "\n",
        "class Buku:\n",
        "    def __init__(self, judul, penulis, harga):\n",
        "        self.judul = judul\n",
        "        self.penulis = penulis\n",
        "        self.harga = harga\n",
        "\n",
        "    def info_buku(self):\n",
        "        print(f\"Judul: {self.judul}\")\n",
        "        print(f\"Penulis: {self.penulis}\")\n",
        "        print(f\"harga: {self.harga}\")\n",
        "\n",
        "\n",
        "buku1 = Buku(\"rudi\", \"Gina\", 200.000)\n",
        "buku1.info_buku()\n",
        ""
      ],
      "metadata": {
        "colab": {
          "base_uri": "https://localhost:8080/"
        },
        "id": "0yi_CUbIO_Sf",
        "outputId": "3cc28019-3b32-405a-804c-8225f067b88c"
      },
      "execution_count": 2,
      "outputs": [
        {
          "output_type": "stream",
          "name": "stdout",
          "text": [
            "Judul: rudi\n",
            "Penulis: Gina\n",
            "harga: 200.0\n"
          ]
        }
      ]
    },
    {
      "cell_type": "code",
      "source": [],
      "metadata": {
        "id": "QpCg3LAnPPyH"
      },
      "execution_count": null,
      "outputs": []
    }
  ],
  "metadata": {
    "colab": {
      "name": "Welcome To Colab",
      "toc_visible": true,
      "provenance": [],
      "include_colab_link": true
    },
    "kernelspec": {
      "display_name": "Python 3",
      "name": "python3"
    }
  },
  "nbformat": 4,
  "nbformat_minor": 0
}